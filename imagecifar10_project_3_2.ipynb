{
  "cells": [
    {
      "cell_type": "code",
      "execution_count": 2,
      "metadata": {
        "id": "0jgEsn2IDSZ1"
      },
      "outputs": [],
      "source": [
        "import tensorflow as tf\n",
        "from tensorflow import keras"
      ]
    },
    {
      "cell_type": "code",
      "execution_count": 3,
      "metadata": {
        "id": "uA1C5gO3Fd98"
      },
      "outputs": [],
      "source": [
        "cifar10_dataset= keras.datasets.cifar10"
      ]
    },
    {
      "cell_type": "code",
      "execution_count": 4,
      "metadata": {
        "colab": {
          "base_uri": "https://localhost:8080/"
        },
        "id": "uyj1sHO6DPMb",
        "outputId": "a8d54a68-201c-4a4d-a60c-09cd77f20ef1"
      },
      "outputs": [
        {
          "name": "stdout",
          "output_type": "stream",
          "text": [
            "Downloading data from https://www.cs.toronto.edu/~kriz/cifar-10-python.tar.gz\n",
            "170498071/170498071 [==============================] - 4s 0us/step\n"
          ]
        }
      ],
      "source": [
        "(x_train, y_train), (x_test, y_test) = keras.datasets.cifar10.load_data()"
      ]
    },
    {
      "cell_type": "code",
      "execution_count": null,
      "metadata": {
        "colab": {
          "base_uri": "https://localhost:8080/"
        },
        "id": "7xW-ei2bF9gu",
        "outputId": "65580c0e-07df-4b6d-d479-9cba50ae5b0f"
      },
      "outputs": [
        {
          "data": {
            "text/plain": [
              "(50000, 32, 32, 3)"
            ]
          },
          "execution_count": 5,
          "metadata": {},
          "output_type": "execute_result"
        }
      ],
      "source": [
        "x_train.shape"
      ]
    },
    {
      "cell_type": "code",
      "execution_count": null,
      "metadata": {
        "colab": {
          "base_uri": "https://localhost:8080/"
        },
        "id": "7rISpDuVGB_-",
        "outputId": "61950b74-6f75-43bf-87e7-9ba7c94142f7"
      },
      "outputs": [
        {
          "data": {
            "text/plain": [
              "(10000, 32, 32, 3)"
            ]
          },
          "execution_count": 6,
          "metadata": {},
          "output_type": "execute_result"
        }
      ],
      "source": [
        "x_test.shape"
      ]
    },
    {
      "cell_type": "code",
      "execution_count": null,
      "metadata": {
        "colab": {
          "base_uri": "https://localhost:8080/"
        },
        "id": "ORjswSOfGHzO",
        "outputId": "a7729b3d-0333-411a-dc37-36f7b931a2c6"
      },
      "outputs": [
        {
          "data": {
            "text/plain": [
              "(50000, 1)"
            ]
          },
          "execution_count": 7,
          "metadata": {},
          "output_type": "execute_result"
        }
      ],
      "source": [
        "y_train.shape"
      ]
    },
    {
      "cell_type": "code",
      "execution_count": null,
      "metadata": {
        "colab": {
          "base_uri": "https://localhost:8080/"
        },
        "id": "i1uHtPEPGL8C",
        "outputId": "41c1aba8-a315-4c09-f510-eff36a589d2f"
      },
      "outputs": [
        {
          "data": {
            "text/plain": [
              "(10000, 1)"
            ]
          },
          "execution_count": 8,
          "metadata": {},
          "output_type": "execute_result"
        }
      ],
      "source": [
        "y_test.shape"
      ]
    },
    {
      "cell_type": "code",
      "execution_count": null,
      "metadata": {
        "colab": {
          "base_uri": "https://localhost:8080/"
        },
        "id": "nLdBTg1cGRJJ",
        "outputId": "2f656089-a06f-4e6a-8757-0a854a98993b"
      },
      "outputs": [
        {
          "data": {
            "text/plain": [
              "array([[6],\n",
              "       [9],\n",
              "       [9],\n",
              "       [4],\n",
              "       [1],\n",
              "       [1],\n",
              "       [2],\n",
              "       [7],\n",
              "       [8],\n",
              "       [3]], dtype=uint8)"
            ]
          },
          "execution_count": 8,
          "metadata": {},
          "output_type": "execute_result"
        }
      ],
      "source": [
        "y_train[:10]"
      ]
    },
    {
      "cell_type": "code",
      "execution_count": 5,
      "metadata": {
        "colab": {
          "base_uri": "https://localhost:8080/"
        },
        "id": "B6o3uvaWJOmA",
        "outputId": "d6743766-54db-49b7-f374-b2bbdbe8b17b"
      },
      "outputs": [
        {
          "data": {
            "text/plain": [
              "(60000, 32, 32, 3)"
            ]
          },
          "execution_count": 5,
          "metadata": {},
          "output_type": "execute_result"
        }
      ],
      "source": [
        "import numpy as np\n",
        "x=np.concatenate((x_train, x_test),axis=0)\n",
        "x.shape"
      ]
    },
    {
      "cell_type": "code",
      "execution_count": 6,
      "metadata": {
        "colab": {
          "base_uri": "https://localhost:8080/"
        },
        "id": "QOB04tcMJn-0",
        "outputId": "7de1bed3-583d-4781-9c24-498ad934e591"
      },
      "outputs": [
        {
          "data": {
            "text/plain": [
              "(60000, 1)"
            ]
          },
          "execution_count": 6,
          "metadata": {},
          "output_type": "execute_result"
        }
      ],
      "source": [
        "y=np.concatenate((y_train, y_test), axis=0)\n",
        "y.shape"
      ]
    },
    {
      "cell_type": "code",
      "execution_count": 7,
      "metadata": {
        "id": "qtvyr7L_Jyxf"
      },
      "outputs": [],
      "source": [
        "from sklearn.model_selection import train_test_split\n",
        "x_train, x_test_temp, y_train, y_test_temp = train_test_split(x, y, test_size=0.15, random_state=42)"
      ]
    },
    {
      "cell_type": "code",
      "execution_count": null,
      "metadata": {
        "colab": {
          "base_uri": "https://localhost:8080/"
        },
        "id": "wTe3zygxKuvL",
        "outputId": "67e7f967-77ce-4e1e-8802-c39392933c52"
      },
      "outputs": [
        {
          "data": {
            "text/plain": [
              "(51000, 32, 32, 3)"
            ]
          },
          "execution_count": 45,
          "metadata": {},
          "output_type": "execute_result"
        }
      ],
      "source": [
        "x_train.shape"
      ]
    },
    {
      "cell_type": "code",
      "execution_count": null,
      "metadata": {
        "colab": {
          "base_uri": "https://localhost:8080/"
        },
        "id": "Q1jqe2cHKymi",
        "outputId": "e204d27c-be6b-4779-e1c6-22a45cc106f4"
      },
      "outputs": [
        {
          "data": {
            "text/plain": [
              "(9000, 32, 32, 3)"
            ]
          },
          "execution_count": 46,
          "metadata": {},
          "output_type": "execute_result"
        }
      ],
      "source": [
        "x_test_temp.shape"
      ]
    },
    {
      "cell_type": "code",
      "execution_count": 8,
      "metadata": {
        "colab": {
          "base_uri": "https://localhost:8080/"
        },
        "id": "7w-pUBv-hFsa",
        "outputId": "2b197e4b-b7b5-4abc-abdd-9c73d89e8007"
      },
      "outputs": [
        {
          "data": {
            "text/plain": [
              "(4500, 32, 32, 3)"
            ]
          },
          "execution_count": 8,
          "metadata": {},
          "output_type": "execute_result"
        }
      ],
      "source": [
        "x_val, x_test, y_val, y_test = train_test_split(x_test_temp, y_test_temp, test_size=.5, random_state=42)\n",
        "x_val.shape"
      ]
    },
    {
      "cell_type": "markdown",
      "metadata": {
        "id": "8rTk6-0ftBGA"
      },
      "source": [
        "### Data Preprocessing"
      ]
    },
    {
      "cell_type": "code",
      "execution_count": 9,
      "metadata": {
        "id": "p3hDEKiCtLLl"
      },
      "outputs": [],
      "source": [
        "from tensorflow.keras.utils import to_categorical\n",
        "\n",
        "y_test = to_categorical(y_test)\n",
        "y_train = to_categorical(y_train)\n",
        "y_val=to_categorical(y_val)"
      ]
    },
    {
      "cell_type": "code",
      "execution_count": 10,
      "metadata": {
        "colab": {
          "base_uri": "https://localhost:8080/"
        },
        "id": "li8sYKm0tazT",
        "outputId": "d5b8a563-4df0-4600-c666-a51242644c32"
      },
      "outputs": [
        {
          "data": {
            "text/plain": [
              "(51000, 32, 32, 3)"
            ]
          },
          "execution_count": 10,
          "metadata": {},
          "output_type": "execute_result"
        }
      ],
      "source": [
        "X_train = x_train/255\n",
        "X_test = x_test/255\n",
        "X_val= x_val/255\n",
        "\n",
        "X_train.shape"
      ]
    },
    {
      "cell_type": "markdown",
      "metadata": {
        "id": "_mrLtMC2OlX4"
      },
      "source": [
        "## #model definition"
      ]
    },
    {
      "cell_type": "markdown",
      "metadata": {
        "id": "DSO3hvS2FhZG"
      },
      "source": [
        "### **model without  initializers**"
      ]
    },
    {
      "cell_type": "code",
      "execution_count": 16,
      "metadata": {
        "colab": {
          "base_uri": "https://localhost:8080/"
        },
        "id": "MsKYb_XPwQs-",
        "outputId": "40f3f7ee-ebda-424f-9e81-6db047728155"
      },
      "outputs": [
        {
          "name": "stdout",
          "output_type": "stream",
          "text": [
            "Model: \"sequential_1\"\n",
            "_________________________________________________________________\n",
            " Layer (type)                Output Shape              Param #   \n",
            "=================================================================\n",
            " flatten_1 (Flatten)         (None, 3072)              0         \n",
            "                                                                 \n",
            " dense_3 (Dense)             (None, 50)                153650    \n",
            "                                                                 \n",
            " dense_4 (Dense)             (None, 50)                2550      \n",
            "                                                                 \n",
            " dense_5 (Dense)             (None, 10)                510       \n",
            "                                                                 \n",
            "=================================================================\n",
            "Total params: 156710 (612.15 KB)\n",
            "Trainable params: 156710 (612.15 KB)\n",
            "Non-trainable params: 0 (0.00 Byte)\n",
            "_________________________________________________________________\n"
          ]
        }
      ],
      "source": [
        "\n",
        "model_2 = keras.Sequential()\n",
        "\n",
        "model_2.add(keras.layers.Flatten(input_shape=[32,32,3]))\n",
        "\n",
        "model_2.add(keras.layers.Dense(units =50, activation = 'relu'))\n",
        "model_2.add(keras.layers.Dense(units =50, activation = 'relu' ))\n",
        "\n",
        "model_2.add(keras.layers.Dense(units =10, activation = 'softmax' ))\n",
        "model_2.summary()"
      ]
    },
    {
      "cell_type": "code",
      "execution_count": 17,
      "metadata": {
        "id": "8lIEKm_7FpYG"
      },
      "outputs": [],
      "source": [
        "model_2.compile(optimizer=tf.optimizers.SGD(learning_rate=0.001,momentum=0.9)\n",
        "              ,loss='categorical_crossentropy',metrics=['accuracy'])"
      ]
    },
    {
      "cell_type": "code",
      "execution_count": 18,
      "metadata": {
        "colab": {
          "base_uri": "https://localhost:8080/"
        },
        "id": "TJpSE0kjFuHR",
        "outputId": "5ef2d873-c6e3-48f2-f6d3-e27a91dc4180"
      },
      "outputs": [
        {
          "name": "stdout",
          "output_type": "stream",
          "text": [
            "Epoch 1/50\n",
            "1594/1594 [==============================] - 6s 4ms/step - loss: 1.9248 - accuracy: 0.3076 - val_loss: 1.8305 - val_accuracy: 0.3458\n",
            "Epoch 2/50\n",
            "1594/1594 [==============================] - 5s 3ms/step - loss: 1.7412 - accuracy: 0.3829 - val_loss: 1.7435 - val_accuracy: 0.3851\n",
            "Epoch 3/50\n",
            "1594/1594 [==============================] - 5s 3ms/step - loss: 1.6661 - accuracy: 0.4069 - val_loss: 1.6766 - val_accuracy: 0.4038\n",
            "Epoch 4/50\n",
            "1594/1594 [==============================] - 5s 3ms/step - loss: 1.6160 - accuracy: 0.4248 - val_loss: 1.6434 - val_accuracy: 0.4209\n",
            "Epoch 5/50\n",
            "1594/1594 [==============================] - 6s 4ms/step - loss: 1.5778 - accuracy: 0.4374 - val_loss: 1.6279 - val_accuracy: 0.4184\n",
            "Epoch 6/50\n",
            "1594/1594 [==============================] - 5s 3ms/step - loss: 1.5500 - accuracy: 0.4477 - val_loss: 1.6120 - val_accuracy: 0.4333\n",
            "Epoch 7/50\n",
            "1594/1594 [==============================] - 5s 3ms/step - loss: 1.5228 - accuracy: 0.4581 - val_loss: 1.6119 - val_accuracy: 0.4322\n",
            "Epoch 8/50\n",
            "1594/1594 [==============================] - 5s 3ms/step - loss: 1.5046 - accuracy: 0.4646 - val_loss: 1.5623 - val_accuracy: 0.4391\n",
            "Epoch 9/50\n",
            "1594/1594 [==============================] - 5s 3ms/step - loss: 1.4820 - accuracy: 0.4721 - val_loss: 1.5432 - val_accuracy: 0.4462\n",
            "Epoch 10/50\n",
            "1594/1594 [==============================] - 6s 3ms/step - loss: 1.4661 - accuracy: 0.4792 - val_loss: 1.5150 - val_accuracy: 0.4622\n",
            "Epoch 11/50\n",
            "1594/1594 [==============================] - 5s 3ms/step - loss: 1.4516 - accuracy: 0.4831 - val_loss: 1.5141 - val_accuracy: 0.4664\n",
            "Epoch 12/50\n",
            "1594/1594 [==============================] - 5s 3ms/step - loss: 1.4386 - accuracy: 0.4892 - val_loss: 1.5068 - val_accuracy: 0.4720\n",
            "Epoch 13/50\n",
            "1594/1594 [==============================] - 5s 3ms/step - loss: 1.4283 - accuracy: 0.4923 - val_loss: 1.5052 - val_accuracy: 0.4760\n",
            "Epoch 14/50\n",
            "1594/1594 [==============================] - 5s 3ms/step - loss: 1.4152 - accuracy: 0.4988 - val_loss: 1.5080 - val_accuracy: 0.4680\n",
            "Epoch 15/50\n",
            "1594/1594 [==============================] - 5s 3ms/step - loss: 1.4021 - accuracy: 0.5015 - val_loss: 1.4854 - val_accuracy: 0.4764\n",
            "Epoch 16/50\n",
            "1594/1594 [==============================] - 5s 3ms/step - loss: 1.3904 - accuracy: 0.5064 - val_loss: 1.4906 - val_accuracy: 0.4718\n",
            "Epoch 17/50\n",
            "1594/1594 [==============================] - 6s 4ms/step - loss: 1.3811 - accuracy: 0.5084 - val_loss: 1.4695 - val_accuracy: 0.4780\n",
            "Epoch 18/50\n",
            "1594/1594 [==============================] - 5s 3ms/step - loss: 1.3756 - accuracy: 0.5125 - val_loss: 1.4856 - val_accuracy: 0.4751\n",
            "Epoch 19/50\n",
            "1594/1594 [==============================] - 6s 3ms/step - loss: 1.3649 - accuracy: 0.5165 - val_loss: 1.4780 - val_accuracy: 0.4784\n",
            "Epoch 20/50\n",
            "1594/1594 [==============================] - 5s 3ms/step - loss: 1.3544 - accuracy: 0.5192 - val_loss: 1.4673 - val_accuracy: 0.4787\n",
            "Epoch 21/50\n",
            "1594/1594 [==============================] - 5s 3ms/step - loss: 1.3499 - accuracy: 0.5213 - val_loss: 1.4726 - val_accuracy: 0.4898\n",
            "Epoch 22/50\n",
            "1594/1594 [==============================] - 5s 3ms/step - loss: 1.3413 - accuracy: 0.5257 - val_loss: 1.4715 - val_accuracy: 0.4824\n",
            "Epoch 23/50\n",
            "1594/1594 [==============================] - 5s 3ms/step - loss: 1.3305 - accuracy: 0.5275 - val_loss: 1.4362 - val_accuracy: 0.4951\n",
            "Epoch 24/50\n",
            "1594/1594 [==============================] - 5s 3ms/step - loss: 1.3291 - accuracy: 0.5272 - val_loss: 1.4598 - val_accuracy: 0.4909\n",
            "Epoch 25/50\n",
            "1594/1594 [==============================] - 5s 3ms/step - loss: 1.3180 - accuracy: 0.5306 - val_loss: 1.4493 - val_accuracy: 0.4962\n",
            "Epoch 26/50\n",
            "1594/1594 [==============================] - 6s 3ms/step - loss: 1.3118 - accuracy: 0.5327 - val_loss: 1.4463 - val_accuracy: 0.4962\n",
            "Epoch 27/50\n",
            "1594/1594 [==============================] - 5s 3ms/step - loss: 1.3052 - accuracy: 0.5357 - val_loss: 1.4507 - val_accuracy: 0.4962\n",
            "Epoch 28/50\n",
            "1594/1594 [==============================] - 5s 3ms/step - loss: 1.2976 - accuracy: 0.5395 - val_loss: 1.4377 - val_accuracy: 0.4998\n",
            "Epoch 29/50\n",
            "1594/1594 [==============================] - 5s 3ms/step - loss: 1.2917 - accuracy: 0.5396 - val_loss: 1.4804 - val_accuracy: 0.4798\n",
            "Epoch 30/50\n",
            "1594/1594 [==============================] - 5s 3ms/step - loss: 1.2859 - accuracy: 0.5423 - val_loss: 1.4614 - val_accuracy: 0.4884\n",
            "Epoch 31/50\n",
            "1594/1594 [==============================] - 6s 4ms/step - loss: 1.2827 - accuracy: 0.5428 - val_loss: 1.4594 - val_accuracy: 0.4916\n",
            "Epoch 32/50\n",
            "1594/1594 [==============================] - 5s 3ms/step - loss: 1.2746 - accuracy: 0.5465 - val_loss: 1.4218 - val_accuracy: 0.4967\n",
            "Epoch 33/50\n",
            "1594/1594 [==============================] - 5s 3ms/step - loss: 1.2685 - accuracy: 0.5476 - val_loss: 1.4335 - val_accuracy: 0.4978\n",
            "Epoch 34/50\n",
            "1594/1594 [==============================] - 5s 3ms/step - loss: 1.2647 - accuracy: 0.5494 - val_loss: 1.4259 - val_accuracy: 0.4960\n",
            "Epoch 35/50\n",
            "1594/1594 [==============================] - 5s 3ms/step - loss: 1.2592 - accuracy: 0.5495 - val_loss: 1.4428 - val_accuracy: 0.4978\n",
            "Epoch 36/50\n",
            "1594/1594 [==============================] - 5s 3ms/step - loss: 1.2540 - accuracy: 0.5533 - val_loss: 1.4291 - val_accuracy: 0.5031\n",
            "Epoch 37/50\n",
            "1594/1594 [==============================] - 5s 3ms/step - loss: 1.2483 - accuracy: 0.5574 - val_loss: 1.4402 - val_accuracy: 0.4962\n",
            "Epoch 38/50\n",
            "1594/1594 [==============================] - 6s 3ms/step - loss: 1.2415 - accuracy: 0.5584 - val_loss: 1.4375 - val_accuracy: 0.5036\n",
            "Epoch 39/50\n",
            "1594/1594 [==============================] - 5s 3ms/step - loss: 1.2356 - accuracy: 0.5597 - val_loss: 1.4156 - val_accuracy: 0.5051\n",
            "Epoch 40/50\n",
            "1594/1594 [==============================] - 5s 3ms/step - loss: 1.2321 - accuracy: 0.5616 - val_loss: 1.4213 - val_accuracy: 0.5049\n",
            "Epoch 41/50\n",
            "1594/1594 [==============================] - 5s 3ms/step - loss: 1.2280 - accuracy: 0.5613 - val_loss: 1.4656 - val_accuracy: 0.4962\n",
            "Epoch 42/50\n",
            "1594/1594 [==============================] - 6s 4ms/step - loss: 1.2225 - accuracy: 0.5654 - val_loss: 1.4316 - val_accuracy: 0.5109\n",
            "Epoch 43/50\n",
            "1594/1594 [==============================] - 5s 3ms/step - loss: 1.2216 - accuracy: 0.5633 - val_loss: 1.4371 - val_accuracy: 0.5044\n",
            "Epoch 44/50\n",
            "1594/1594 [==============================] - 5s 3ms/step - loss: 1.2143 - accuracy: 0.5665 - val_loss: 1.4452 - val_accuracy: 0.5004\n",
            "Epoch 45/50\n",
            "1594/1594 [==============================] - 6s 3ms/step - loss: 1.2094 - accuracy: 0.5675 - val_loss: 1.4414 - val_accuracy: 0.5016\n",
            "Epoch 46/50\n",
            "1594/1594 [==============================] - 5s 3ms/step - loss: 1.2018 - accuracy: 0.5705 - val_loss: 1.4511 - val_accuracy: 0.4940\n",
            "Epoch 47/50\n",
            "1594/1594 [==============================] - 6s 4ms/step - loss: 1.2012 - accuracy: 0.5727 - val_loss: 1.4653 - val_accuracy: 0.4980\n",
            "Epoch 48/50\n",
            "1594/1594 [==============================] - 5s 3ms/step - loss: 1.1954 - accuracy: 0.5747 - val_loss: 1.4467 - val_accuracy: 0.5049\n",
            "Epoch 49/50\n",
            "1594/1594 [==============================] - 6s 3ms/step - loss: 1.1970 - accuracy: 0.5734 - val_loss: 1.3920 - val_accuracy: 0.5120\n",
            "Epoch 50/50\n",
            "1594/1594 [==============================] - 5s 3ms/step - loss: 1.1862 - accuracy: 0.5763 - val_loss: 1.4202 - val_accuracy: 0.5156\n"
          ]
        }
      ],
      "source": [
        "hist_2 = model_2.fit(X_train,y_train,epochs=50, batch_size=32,validation_data=(X_val,y_val))"
      ]
    },
    {
      "cell_type": "code",
      "execution_count": 19,
      "metadata": {
        "colab": {
          "base_uri": "https://localhost:8080/"
        },
        "id": "UznsjW3lFzDV",
        "outputId": "485c3396-29fb-45d8-cc9f-575831250b4a"
      },
      "outputs": [
        {
          "name": "stdout",
          "output_type": "stream",
          "text": [
            "141/141 [==============================] - 0s 2ms/step - loss: 1.4202 - accuracy: 0.5156\n"
          ]
        },
        {
          "data": {
            "text/plain": [
              "[1.420198917388916, 0.5155555605888367]"
            ]
          },
          "execution_count": 19,
          "metadata": {},
          "output_type": "execute_result"
        }
      ],
      "source": [
        "model_2.evaluate(X_val,y_val)"
      ]
    },
    {
      "cell_type": "code",
      "execution_count": 20,
      "metadata": {
        "colab": {
          "base_uri": "https://localhost:8080/"
        },
        "id": "5Yhu2uz-HfRB",
        "outputId": "b7b9f995-9761-42bc-dc9d-da21c7c90ddf"
      },
      "outputs": [
        {
          "data": {
            "text/plain": [
              "array([[ 0.06325121,  0.0233492 , -0.01814464, ...,  0.04090618,\n",
              "         0.05296263, -0.03266148],\n",
              "       [ 0.13441503,  0.00843174,  0.04081815, ...,  0.03780772,\n",
              "         0.0092715 , -0.0467444 ],\n",
              "       [ 0.04502413,  0.09651618,  0.09765575, ...,  0.03772498,\n",
              "         0.05501027, -0.02486681],\n",
              "       ...,\n",
              "       [ 0.11973001, -0.03109109, -0.03299078, ...,  0.04562216,\n",
              "        -0.01299343,  0.03985519],\n",
              "       [ 0.11687054, -0.04022038,  0.00081674, ...,  0.0902991 ,\n",
              "         0.00467031,  0.02238534],\n",
              "       [ 0.11278489, -0.05553005,  0.02932267, ..., -0.01447771,\n",
              "        -0.00676945,  0.00788053]], dtype=float32)"
            ]
          },
          "execution_count": 20,
          "metadata": {},
          "output_type": "execute_result"
        }
      ],
      "source": [
        "weights, bias = model_2.layers[1].get_weights()\n",
        "weights"
      ]
    },
    {
      "cell_type": "markdown",
      "metadata": {
        "id": "VJIVRmkVJFLm"
      },
      "source": [
        "### **initializer model**"
      ]
    },
    {
      "cell_type": "code",
      "execution_count": 24,
      "metadata": {
        "colab": {
          "base_uri": "https://localhost:8080/"
        },
        "id": "tX8EDiB1OsQn",
        "outputId": "287e058b-9a2d-44b4-ed71-fd46057d28b6"
      },
      "outputs": [
        {
          "name": "stdout",
          "output_type": "stream",
          "text": [
            "Model: \"sequential_3\"\n",
            "_________________________________________________________________\n",
            " Layer (type)                Output Shape              Param #   \n",
            "=================================================================\n",
            " flatten_3 (Flatten)         (None, 3072)              0         \n",
            "                                                                 \n",
            " dense_9 (Dense)             (None, 50)                153600    \n",
            "                                                                 \n",
            " dense_10 (Dense)            (None, 50)                2500      \n",
            "                                                                 \n",
            " dense_11 (Dense)            (None, 10)                510       \n",
            "                                                                 \n",
            "=================================================================\n",
            "Total params: 156610 (611.76 KB)\n",
            "Trainable params: 156610 (611.76 KB)\n",
            "Non-trainable params: 0 (0.00 Byte)\n",
            "_________________________________________________________________\n"
          ]
        },
        {
          "name": "stderr",
          "output_type": "stream",
          "text": [
            "/usr/local/lib/python3.10/dist-packages/keras/src/initializers/initializers.py:120: UserWarning: The initializer HeNormal is unseeded and being called multiple times, which will return identical values each time (even if the initializer is unseeded). Please update your code to provide a seed to the initializer, or avoid using the same initializer instance more than once.\n",
            "  warnings.warn(\n"
          ]
        }
      ],
      "source": [
        "init_1 = keras.initializers.HeNormal(seed=None)\n",
        "model = keras.Sequential()\n",
        "\n",
        "model.add(keras.layers.Flatten(input_shape=[32,32,3]))\n",
        "\n",
        "model.add(keras.layers.Dense(units =50, activation = 'relu',kernel_initializer=init_1) )\n",
        "model.add(keras.layers.Dense(units =50, activation = 'relu',kernel_initializer=init_1) )\n",
        "\n",
        "\n",
        "model.add(keras.layers.Dense(units =10, activation = 'softmax' ))\n",
        "model.summary()"
      ]
    },
    {
      "cell_type": "code",
      "execution_count": 25,
      "metadata": {
        "id": "vzyQ-xE1fuTn"
      },
      "outputs": [],
      "source": [
        "model.compile(optimizer=tf.optimizers.SGD(learning_rate=0.001,momentum=0.9)\n",
        "              ,loss='categorical_crossentropy',metrics=['accuracy'])"
      ]
    },
    {
      "cell_type": "code",
      "execution_count": 26,
      "metadata": {
        "colab": {
          "base_uri": "https://localhost:8080/"
        },
        "id": "D-PwdL5kpKEW",
        "outputId": "e273b033-7d87-4f33-d0b9-987c9e72ecd6"
      },
      "outputs": [
        {
          "name": "stdout",
          "output_type": "stream",
          "text": [
            "Epoch 1/50\n",
            "1594/1594 [==============================] - 5s 3ms/step - loss: 1.9132 - accuracy: 0.3136 - val_loss: 1.8374 - val_accuracy: 0.3442\n",
            "Epoch 2/50\n",
            "1594/1594 [==============================] - 6s 4ms/step - loss: 1.7527 - accuracy: 0.3773 - val_loss: 1.7424 - val_accuracy: 0.3878\n",
            "Epoch 3/50\n",
            "1594/1594 [==============================] - 5s 3ms/step - loss: 1.6819 - accuracy: 0.4022 - val_loss: 1.7347 - val_accuracy: 0.3789\n",
            "Epoch 4/50\n",
            "1594/1594 [==============================] - 5s 3ms/step - loss: 1.6321 - accuracy: 0.4237 - val_loss: 1.6470 - val_accuracy: 0.4160\n",
            "Epoch 5/50\n",
            "1594/1594 [==============================] - 5s 3ms/step - loss: 1.5983 - accuracy: 0.4365 - val_loss: 1.6089 - val_accuracy: 0.4336\n",
            "Epoch 6/50\n",
            "1594/1594 [==============================] - 5s 3ms/step - loss: 1.5702 - accuracy: 0.4451 - val_loss: 1.5898 - val_accuracy: 0.4393\n",
            "Epoch 7/50\n",
            "1594/1594 [==============================] - 6s 4ms/step - loss: 1.5466 - accuracy: 0.4532 - val_loss: 1.5806 - val_accuracy: 0.4447\n",
            "Epoch 8/50\n",
            "1594/1594 [==============================] - 5s 3ms/step - loss: 1.5236 - accuracy: 0.4611 - val_loss: 1.5728 - val_accuracy: 0.4507\n",
            "Epoch 9/50\n",
            "1594/1594 [==============================] - 5s 3ms/step - loss: 1.5060 - accuracy: 0.4671 - val_loss: 1.5959 - val_accuracy: 0.4400\n",
            "Epoch 10/50\n",
            "1594/1594 [==============================] - 5s 3ms/step - loss: 1.4897 - accuracy: 0.4734 - val_loss: 1.5643 - val_accuracy: 0.4478\n",
            "Epoch 11/50\n",
            "1594/1594 [==============================] - 6s 4ms/step - loss: 1.4746 - accuracy: 0.4750 - val_loss: 1.5378 - val_accuracy: 0.4604\n",
            "Epoch 12/50\n",
            "1594/1594 [==============================] - 5s 3ms/step - loss: 1.4601 - accuracy: 0.4825 - val_loss: 1.5705 - val_accuracy: 0.4420\n",
            "Epoch 13/50\n",
            "1594/1594 [==============================] - 5s 3ms/step - loss: 1.4490 - accuracy: 0.4857 - val_loss: 1.5378 - val_accuracy: 0.4602\n",
            "Epoch 14/50\n",
            "1594/1594 [==============================] - 5s 3ms/step - loss: 1.4390 - accuracy: 0.4903 - val_loss: 1.5215 - val_accuracy: 0.4653\n",
            "Epoch 15/50\n",
            "1594/1594 [==============================] - 5s 3ms/step - loss: 1.4284 - accuracy: 0.4948 - val_loss: 1.5039 - val_accuracy: 0.4711\n",
            "Epoch 16/50\n",
            "1594/1594 [==============================] - 5s 3ms/step - loss: 1.4200 - accuracy: 0.4967 - val_loss: 1.5440 - val_accuracy: 0.4576\n",
            "Epoch 17/50\n",
            "1594/1594 [==============================] - 5s 3ms/step - loss: 1.4118 - accuracy: 0.4983 - val_loss: 1.5144 - val_accuracy: 0.4676\n",
            "Epoch 18/50\n",
            "1594/1594 [==============================] - 5s 3ms/step - loss: 1.3990 - accuracy: 0.5019 - val_loss: 1.5047 - val_accuracy: 0.4724\n",
            "Epoch 19/50\n",
            "1594/1594 [==============================] - 5s 3ms/step - loss: 1.3956 - accuracy: 0.5041 - val_loss: 1.5303 - val_accuracy: 0.4596\n",
            "Epoch 20/50\n",
            "1594/1594 [==============================] - 5s 3ms/step - loss: 1.3864 - accuracy: 0.5063 - val_loss: 1.5036 - val_accuracy: 0.4813\n",
            "Epoch 21/50\n",
            "1594/1594 [==============================] - 6s 4ms/step - loss: 1.3769 - accuracy: 0.5135 - val_loss: 1.5153 - val_accuracy: 0.4629\n",
            "Epoch 22/50\n",
            "1594/1594 [==============================] - 5s 3ms/step - loss: 1.3735 - accuracy: 0.5106 - val_loss: 1.4759 - val_accuracy: 0.4807\n",
            "Epoch 23/50\n",
            "1594/1594 [==============================] - 5s 3ms/step - loss: 1.3646 - accuracy: 0.5139 - val_loss: 1.4766 - val_accuracy: 0.4804\n",
            "Epoch 24/50\n",
            "1594/1594 [==============================] - 5s 3ms/step - loss: 1.3555 - accuracy: 0.5199 - val_loss: 1.5086 - val_accuracy: 0.4711\n",
            "Epoch 25/50\n",
            "1594/1594 [==============================] - 6s 4ms/step - loss: 1.3509 - accuracy: 0.5198 - val_loss: 1.4753 - val_accuracy: 0.4884\n",
            "Epoch 26/50\n",
            "1594/1594 [==============================] - 5s 3ms/step - loss: 1.3421 - accuracy: 0.5213 - val_loss: 1.4869 - val_accuracy: 0.4767\n",
            "Epoch 27/50\n",
            "1594/1594 [==============================] - 5s 3ms/step - loss: 1.3336 - accuracy: 0.5268 - val_loss: 1.4750 - val_accuracy: 0.4829\n",
            "Epoch 28/50\n",
            "1594/1594 [==============================] - 5s 3ms/step - loss: 1.3289 - accuracy: 0.5282 - val_loss: 1.4909 - val_accuracy: 0.4791\n",
            "Epoch 29/50\n",
            "1594/1594 [==============================] - 5s 3ms/step - loss: 1.3235 - accuracy: 0.5291 - val_loss: 1.4515 - val_accuracy: 0.4864\n",
            "Epoch 30/50\n",
            "1594/1594 [==============================] - 5s 3ms/step - loss: 1.3159 - accuracy: 0.5312 - val_loss: 1.4920 - val_accuracy: 0.4793\n",
            "Epoch 31/50\n",
            "1594/1594 [==============================] - 5s 3ms/step - loss: 1.3148 - accuracy: 0.5308 - val_loss: 1.4865 - val_accuracy: 0.4716\n",
            "Epoch 32/50\n",
            "1594/1594 [==============================] - 5s 3ms/step - loss: 1.3080 - accuracy: 0.5324 - val_loss: 1.4617 - val_accuracy: 0.4900\n",
            "Epoch 33/50\n",
            "1594/1594 [==============================] - 5s 3ms/step - loss: 1.2994 - accuracy: 0.5392 - val_loss: 1.4735 - val_accuracy: 0.4840\n",
            "Epoch 34/50\n",
            "1594/1594 [==============================] - 5s 3ms/step - loss: 1.2983 - accuracy: 0.5401 - val_loss: 1.4750 - val_accuracy: 0.4840\n",
            "Epoch 35/50\n",
            "1594/1594 [==============================] - 5s 3ms/step - loss: 1.2912 - accuracy: 0.5417 - val_loss: 1.4926 - val_accuracy: 0.4802\n",
            "Epoch 36/50\n",
            "1594/1594 [==============================] - 5s 3ms/step - loss: 1.2859 - accuracy: 0.5424 - val_loss: 1.4535 - val_accuracy: 0.4902\n",
            "Epoch 37/50\n",
            "1594/1594 [==============================] - 5s 3ms/step - loss: 1.2808 - accuracy: 0.5455 - val_loss: 1.4589 - val_accuracy: 0.4836\n",
            "Epoch 38/50\n",
            "1594/1594 [==============================] - 5s 3ms/step - loss: 1.2754 - accuracy: 0.5466 - val_loss: 1.4754 - val_accuracy: 0.4829\n",
            "Epoch 39/50\n",
            "1594/1594 [==============================] - 5s 3ms/step - loss: 1.2696 - accuracy: 0.5494 - val_loss: 1.4462 - val_accuracy: 0.4878\n",
            "Epoch 40/50\n",
            "1594/1594 [==============================] - 5s 3ms/step - loss: 1.2661 - accuracy: 0.5511 - val_loss: 1.5108 - val_accuracy: 0.4811\n",
            "Epoch 41/50\n",
            "1594/1594 [==============================] - 5s 3ms/step - loss: 1.2627 - accuracy: 0.5515 - val_loss: 1.4443 - val_accuracy: 0.4929\n",
            "Epoch 42/50\n",
            "1594/1594 [==============================] - 5s 3ms/step - loss: 1.2573 - accuracy: 0.5518 - val_loss: 1.4623 - val_accuracy: 0.4851\n",
            "Epoch 43/50\n",
            "1594/1594 [==============================] - 5s 3ms/step - loss: 1.2503 - accuracy: 0.5537 - val_loss: 1.4747 - val_accuracy: 0.4793\n",
            "Epoch 44/50\n",
            "1594/1594 [==============================] - 5s 3ms/step - loss: 1.2453 - accuracy: 0.5556 - val_loss: 1.4303 - val_accuracy: 0.5027\n",
            "Epoch 45/50\n",
            "1594/1594 [==============================] - 5s 3ms/step - loss: 1.2406 - accuracy: 0.5587 - val_loss: 1.4747 - val_accuracy: 0.4844\n",
            "Epoch 46/50\n",
            "1594/1594 [==============================] - 5s 3ms/step - loss: 1.2380 - accuracy: 0.5587 - val_loss: 1.4514 - val_accuracy: 0.4913\n",
            "Epoch 47/50\n",
            "1594/1594 [==============================] - 5s 3ms/step - loss: 1.2316 - accuracy: 0.5606 - val_loss: 1.4503 - val_accuracy: 0.4944\n",
            "Epoch 48/50\n",
            "1594/1594 [==============================] - 5s 3ms/step - loss: 1.2321 - accuracy: 0.5615 - val_loss: 1.4649 - val_accuracy: 0.4844\n",
            "Epoch 49/50\n",
            "1594/1594 [==============================] - 5s 3ms/step - loss: 1.2304 - accuracy: 0.5597 - val_loss: 1.4455 - val_accuracy: 0.4978\n",
            "Epoch 50/50\n",
            "1594/1594 [==============================] - 5s 3ms/step - loss: 1.2246 - accuracy: 0.5641 - val_loss: 1.4512 - val_accuracy: 0.4978\n"
          ]
        }
      ],
      "source": [
        "hist = model.fit(X_train,y_train,epochs=50, batch_size=32,validation_data=(X_val,y_val))"
      ]
    },
    {
      "cell_type": "code",
      "execution_count": 27,
      "metadata": {
        "colab": {
          "base_uri": "https://localhost:8080/"
        },
        "id": "2GEo779OF3P4",
        "outputId": "7eaecb51-0f30-4f8e-abed-ae23bfc58de4"
      },
      "outputs": [
        {
          "name": "stdout",
          "output_type": "stream",
          "text": [
            "141/141 [==============================] - 0s 2ms/step - loss: 1.4512 - accuracy: 0.4978\n"
          ]
        },
        {
          "data": {
            "text/plain": [
              "[1.451188564300537, 0.4977777898311615]"
            ]
          },
          "execution_count": 27,
          "metadata": {},
          "output_type": "execute_result"
        }
      ],
      "source": [
        "model.evaluate(X_val,y_val)"
      ]
    }
  ],
  "metadata": {
    "accelerator": "GPU",
    "colab": {
      "gpuType": "T4",
      "provenance": []
    },
    "kernelspec": {
      "display_name": "Python 3",
      "name": "python3"
    },
    "language_info": {
      "name": "python",
      "version": "3.11.5"
    }
  },
  "nbformat": 4,
  "nbformat_minor": 0
}
